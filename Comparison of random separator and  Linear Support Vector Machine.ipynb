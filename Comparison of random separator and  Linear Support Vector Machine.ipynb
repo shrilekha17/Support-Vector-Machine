{
 "cells": [
  {
   "cell_type": "code",
   "execution_count": 115,
   "metadata": {},
   "outputs": [
    {
     "name": "stdout",
     "output_type": "stream",
     "text": [
      "-0.879969929382332\n",
      "-0.08529928054100205\n"
     ]
    },
    {
     "data": {
      "image/png": "[encoded data removed]",
      "text/plain": [
       "<matplotlib.figure.Figure at 0x1a231e83c8>"
      ]
     },
     "metadata": {},
     "output_type": "display_data"
    }
   ],
   "source": [
    "# Comparison of random hypothesis and Supper Vector Machine\n",
    "\n",
    "from numpy.random import rand\n",
    "import matplotlib.pyplot as plt\n",
    "from sklearn.svm import SVC\n",
    "import pandas as pd\n",
    "import numpy as np\n",
    "import math \n",
    "import random\n",
    "\n",
    "def generate_data():\n",
    "    X1 = []\n",
    "    X2 = []\n",
    "    Y1 = []\n",
    "    Y2 = []\n",
    "\n",
    "    for i in range(3):\n",
    "        X1.append(random.uniform(-1,1))\n",
    "        Y1.append(random.uniform(0,1))\n",
    "        X2.append(random.uniform(-1,1))\n",
    "        Y2.append(random.uniform(-1,0))\n",
    "\n",
    "    data1 = [np.array([X1[i],Y1[i],1]) for i in range(3)]\n",
    "    data2 = [np.array([X2[i],Y2[i],-1]) for i in range(3)]\n",
    "\n",
    "    # Dividing the data in upper half and lower half \n",
    "    return pd.DataFrame(data1), pd.DataFrame(data2)\n",
    "\n",
    "upper_data, lower_data = generate_data()\n",
    "\n",
    "# Introducing a for random hypothesis\n",
    "a_ran = random.uniform(-1,1)\n",
    "print(a_ran)\n",
    "\n",
    "# Plotting datapoints and random hypothesis \n",
    "plt.scatter(upper_data.iloc[:,0],upper_data.iloc[:,1])\n",
    "plt.scatter(lower_data.iloc[:,0],lower_data.iloc[:,1])     \n",
    "X_val = np.arange(-1,1,0.1)\n",
    "y_val = np.array(a_ran + 0*X_val)\n",
    "plt.plot(X_val, y_val,label = \"Random hypothesis\")\n",
    "plt.legend()\n",
    "\n",
    "\n",
    "# Support Vector Machine \n",
    "# To get the svm classifier,  we need to find the closest point to x-axis in upper half and lower half.   \n",
    "upper_y_value = upper_data.iloc[:,1]\n",
    "lower_y_value = lower_data.iloc[:,1]\n",
    "lowest = upper_y_value.loc[upper_y_value.idxmin()]\n",
    "maximum = lower_y_value.loc[lower_y_value.idxmax()]\n",
    "\n",
    "# SVM line would be the mid of those lowest points\n",
    "a_svm = (lowest + maximum)/2\n",
    "print(a_svm)\n",
    "\n",
    "# Plotting Support Vector Machine\n",
    "# plt.scatter(X1,Y1)\n",
    "# plt.scatter(X2,Y2)   \n",
    "     \n",
    "x_val = np.arange(-1,1,0.1)\n",
    "y_val = np.array(a_svm + 0*x_val)\n",
    "y_upper_margin = np.array(lowest + 0*x_val)\n",
    "y_lower_margin = np.array(maximum + 0*x_val)\n",
    "plt.plot(x_val, y_val, label = \"SVM\")\n",
    "plt.plot(x_val, y_upper_margin,'k--' )\n",
    "plt.plot(x_val, y_lower_margin, 'k--')\n",
    "plt.legend()\n",
    "\n",
    "\n",
    " \n",
    "\n",
    "\n",
    "\n",
    "    \n",
    "\n"
   ]
  },
  {
   "cell_type": "code",
   "execution_count": 93,
   "metadata": {},
   "outputs": [
    {
     "name": "stdout",
     "output_type": "stream",
     "text": [
      "100000\n",
      "100000\n"
     ]
    },
    {
     "data": {
      "text/plain": [
       "Text(0,0.5,'Frequency')"
      ]
     },
     "execution_count": 93,
     "metadata": {},
     "output_type": "execute_result"
    },
    {
     "data": {
      "image/png": "[encoded data removed]",
      "text/plain": [
       "<matplotlib.figure.Figure at 0x1a21a97208>"
      ]
     },
     "metadata": {},
     "output_type": "display_data"
    }
   ],
   "source": [
    "import seaborn as sns\n",
    "\n",
    "# Generating the dataset for millions time  \n",
    "N=1000000\n",
    "a_svm=[]\n",
    "for _ in range(N):\n",
    "    upper_data, lower_data = generate_data()\n",
    "    asvm = ( min(upper_data.iloc[:,1]) + max(lower_data.iloc[:,1]) ) / 2.0\n",
    "    a_svm.append(asvm)\n",
    "    \n",
    "a_rand = np.random.uniform(-1,1,N) # You are generating N points between -1 and 1.\n",
    "\n",
    "data = {\"a svm\" : a_svm, \"a rand\" : a_rand}\n",
    "keys = [\"a svm\", \"a rand\"]\n",
    "\n",
    "print(len(a_svm))\n",
    "print(len(a_rand))\n",
    "\n",
    "# the histogram of the data\n",
    "for key in keys:\n",
    "    # Subset to the airline\n",
    "    subset = data[key]\n",
    "    \n",
    "    # Draw the density plot\n",
    "    sns.distplot(subset, hist = True, kde = False,\n",
    "                 hist_kws={'edgecolor':'black'},\n",
    "                 label = key, bins=25)\n",
    "    \n",
    "# Plot formatting\n",
    "plt.legend(prop={'size': 16}, title = 'Classifier')\n",
    "plt.title('Frequency Plot of \"a\" for N=%s'%(N))\n",
    "plt.xlabel('Intercept Value')\n",
    "plt.ylabel('Frequency')"
   ]
  },
  {
   "cell_type": "code",
   "execution_count": 136,
   "metadata": {},
   "outputs": [
    {
     "name": "stdout",
     "output_type": "stream",
     "text": [
      "          0         1\n",
      "0  0.071085  0.562233\n",
      "1 -0.249853  0.702511\n",
      "2  0.030357  0.819459\n",
      "3 -0.678607 -0.248027\n",
      "4 -0.219543 -0.132757\n",
      "5  0.337165 -0.205387\n",
      "0    1.0\n",
      "1    1.0\n",
      "2    1.0\n",
      "3   -1.0\n",
      "4   -1.0\n",
      "5   -1.0\n",
      "Name: 2, dtype: float64\n",
      "[0.35510213 2.72854572]\n"
     ]
    },
    {
     "data": {
      "image/png": "[encoded data removed]",
      "text/plain": [
       "<matplotlib.figure.Figure at 0x1a2227b6d8>"
      ]
     },
     "metadata": {},
     "output_type": "display_data"
    }
   ],
   "source": [
    "# If we do not draw from the given hypothesis H: sign(x2-a), then the SVM would find it's own weight and biased.\n",
    "# as shown below\n",
    "\n",
    "\n",
    "data = pd.DataFrame(data = data1+data2)\n",
    "X1= data.iloc[:,0:2]\n",
    "y= data.iloc[:,2]\n",
    "print(X1)\n",
    "print(y)\n",
    "\n",
    "model = SVC(kernel='linear',C=1E10)\n",
    "clf = model.fit(X1,y)\n",
    "plt.scatter(data.iloc[:,0],data.iloc[:,1])\n",
    "\n",
    "clf.support_vectors_\n",
    "w = clf.coef_[0]\n",
    "a = -w[0] / w[1]\n",
    "xx = np.linspace(-1, 1)\n",
    "yy = a * xx - (clf.intercept_[0]) / w[1]\n",
    "\n",
    "margin = 1 / np.sqrt(np.sum(clf.coef_ ** 2))\n",
    "yy_down = yy - np.sqrt(1 + a ** 2) * margin\n",
    "yy_up = yy + np.sqrt(1 + a ** 2) * margin\n",
    "plt.plot(xx, yy, 'k-')\n",
    "plt.plot(xx, yy_down, 'k--')\n",
    "plt.plot(xx, yy_up, 'k--')\n",
    "plt.show\n",
    "\n",
    "print(w)\n"
   ]
  },
  {
   "cell_type": "code",
   "execution_count": null,
   "metadata": {},
   "outputs": [],
   "source": []
  }
 ],
 "metadata": {
  "kernelspec": {
   "display_name": "Python 3",
   "language": "python",
   "name": "python3"
  },
  "language_info": {
   "codemirror_mode": {
    "name": "ipython",
    "version": 3
   },
   "file_extension": ".py",
   "mimetype": "text/x-python",
   "name": "python",
   "nbconvert_exporter": "python",
   "pygments_lexer": "ipython3",
   "version": "3.6.4"
  }
 },
 "nbformat": 4,
 "nbformat_minor": 2
}
